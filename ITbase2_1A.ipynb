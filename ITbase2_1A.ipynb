{
  "nbformat": 4,
  "nbformat_minor": 0,
  "metadata": {
    "colab": {
      "provenance": [],
      "collapsed_sections": [
        "8LTiG6M0OZbr",
        "GHRjqQxKVgtq",
        "2hB30xAQVkYU",
        "Z3ft11-LSxJi",
        "ql8OhuSZS2TM",
        "UcMMXICDS-N4",
        "mX2JfI08TJWy",
        "12IDAD9-bQ9t",
        "cysfGpWScTV4",
        "_NADJNq6bVPc",
        "FmOq6yQ7dIXD"
      ],
      "authorship_tag": "ABX9TyM23kX//eZq9rSE2dhZnqna",
      "include_colab_link": true
    },
    "kernelspec": {
      "name": "python3",
      "display_name": "Python 3"
    },
    "language_info": {
      "name": "python"
    }
  },
  "cells": [
    {
      "cell_type": "markdown",
      "metadata": {
        "id": "view-in-github",
        "colab_type": "text"
      },
      "source": [
        "<a href=\"https://colab.research.google.com/github/sushi404/ITBaseUnit/blob/main/ITbase2_1A.ipynb\" target=\"_parent\"><img src=\"https://colab.research.google.com/assets/colab-badge.svg\" alt=\"Open In Colab\"/></a>"
      ]
    },
    {
      "cell_type": "markdown",
      "source": [
        "#基礎ユニット2 項目1 ニューラルネットワークと画像認識"
      ],
      "metadata": {
        "id": "fsG28iNGONSd"
      }
    },
    {
      "cell_type": "markdown",
      "source": [
        "##Python練習1"
      ],
      "metadata": {
        "id": "8LTiG6M0OZbr"
      }
    },
    {
      "cell_type": "markdown",
      "source": [
        "###出力"
      ],
      "metadata": {
        "id": "alkhGFQMVdjA"
      }
    },
    {
      "cell_type": "code",
      "execution_count": 6,
      "metadata": {
        "colab": {
          "base_uri": "https://localhost:8080/"
        },
        "id": "znWQmDbDM7vk",
        "outputId": "fa081bc6-e22e-4370-d929-0c70a95d0450"
      },
      "outputs": [
        {
          "output_type": "stream",
          "name": "stdout",
          "text": [
            "pythonの練習\n"
          ]
        }
      ],
      "source": [
        "\n",
        "print(\"pythonの練習\")"
      ]
    },
    {
      "cell_type": "markdown",
      "source": [
        "###変数"
      ],
      "metadata": {
        "id": "GHRjqQxKVgtq"
      }
    },
    {
      "cell_type": "code",
      "source": [
        "#変数\n",
        "a=1\n",
        "print(a)"
      ],
      "metadata": {
        "colab": {
          "base_uri": "https://localhost:8080/"
        },
        "id": "vtXaCrW1P3lY",
        "outputId": "dbaa6882-961a-41de-9dcb-1ea2ebe99e04"
      },
      "execution_count": 7,
      "outputs": [
        {
          "output_type": "stream",
          "name": "stdout",
          "text": [
            "1\n"
          ]
        }
      ]
    },
    {
      "cell_type": "markdown",
      "source": [
        "###計算"
      ],
      "metadata": {
        "id": "2hB30xAQVkYU"
      }
    },
    {
      "cell_type": "code",
      "source": [
        "#計算\n",
        "\n",
        "a=1+2\n",
        "b=4-1+2\n",
        "c=(4+5)*4\n",
        "d=5/(1+2+3)\n",
        "print(\"a=\",a ,\"b=\",b , \"c=\",c , \"d=\",d)"
      ],
      "metadata": {
        "colab": {
          "base_uri": "https://localhost:8080/"
        },
        "id": "HlhwZZSnP7Ft",
        "outputId": "aa78f296-ce3e-4896-ad66-f96986ba39b1"
      },
      "execution_count": 9,
      "outputs": [
        {
          "output_type": "stream",
          "name": "stdout",
          "text": [
            "a= 3 b= 5 c= 36 d= 0.8333333333333334\n"
          ]
        }
      ]
    },
    {
      "cell_type": "markdown",
      "source": [
        "##Python練習2"
      ],
      "metadata": {
        "id": "O09BO25yOjXU"
      }
    },
    {
      "cell_type": "markdown",
      "source": [
        "###配列(リスト)"
      ],
      "metadata": {
        "id": "Z3ft11-LSxJi"
      }
    },
    {
      "cell_type": "code",
      "source": [
        "#配列の計算\n",
        "x=[0,0]\n",
        "y=[0,1]\n",
        "\n",
        "print(x)\n",
        "print(y)\n"
      ],
      "metadata": {
        "colab": {
          "base_uri": "https://localhost:8080/"
        },
        "id": "qSIMh4eUOMI5",
        "outputId": "f12a5fe4-82c6-474d-dc40-b2b866923e28"
      },
      "execution_count": 34,
      "outputs": [
        {
          "output_type": "stream",
          "name": "stdout",
          "text": [
            "[0, 0]\n",
            "[0, 1]\n"
          ]
        }
      ]
    },
    {
      "cell_type": "code",
      "source": [
        "#多次元配列の生成、参照\n",
        "x=[0,0]\n",
        "y=[0,1]\n",
        "z=[1,1]\n",
        "w=[x,y,z]\n",
        "\n",
        "print(\"x[0] =\", x[0], \" y[1] =\",y[1], \" w[0] =\", w[0], \" w[1][1] =\", w[1][1])"
      ],
      "metadata": {
        "colab": {
          "base_uri": "https://localhost:8080/"
        },
        "id": "3dx2xwK5QQ1I",
        "outputId": "e5deb984-acab-4a5b-8a35-978925e3ad44"
      },
      "execution_count": 35,
      "outputs": [
        {
          "output_type": "stream",
          "name": "stdout",
          "text": [
            "x[0] = 0  y[1] = 1  w[0] = [0, 0]  w[1][1] = 1\n"
          ]
        }
      ]
    },
    {
      "cell_type": "code",
      "source": [
        "#連番配列\n",
        "r=range(10)\n",
        "a=list(r)\n",
        "\n",
        "print(a)"
      ],
      "metadata": {
        "colab": {
          "base_uri": "https://localhost:8080/"
        },
        "id": "DgNSiHnuQgoR",
        "outputId": "3aa74104-e08b-4369-f5bc-dced416f05cf"
      },
      "execution_count": 36,
      "outputs": [
        {
          "output_type": "stream",
          "name": "stdout",
          "text": [
            "[0, 1, 2, 3, 4, 5, 6, 7, 8, 9]\n"
          ]
        }
      ]
    },
    {
      "cell_type": "markdown",
      "source": [
        "###条件分岐"
      ],
      "metadata": {
        "id": "ql8OhuSZS2TM"
      }
    },
    {
      "cell_type": "code",
      "source": [
        "#a=4\n",
        "#a=-1\n",
        "a=-3\n",
        "\n",
        "if a>=0:\n",
        "    print(\"aは0以上\")\n",
        "elif a<0 and a>=-1:\n",
        "  print(\"aは-1以上,0未満\")\n",
        "else:\n",
        "  print(\"aは-1未満\")"
      ],
      "metadata": {
        "colab": {
          "base_uri": "https://localhost:8080/"
        },
        "id": "wGGvl2YzQs6B",
        "outputId": "081dea82-b3cd-4090-91e3-99b0e8deda1a"
      },
      "execution_count": 21,
      "outputs": [
        {
          "output_type": "stream",
          "name": "stdout",
          "text": [
            "aは-1未満\n"
          ]
        }
      ]
    },
    {
      "cell_type": "markdown",
      "source": [
        "###繰り返し処理"
      ],
      "metadata": {
        "id": "UcMMXICDS-N4"
      }
    },
    {
      "cell_type": "code",
      "source": [
        "input=[0,1,2,3]\n",
        "for x in input:\n",
        "  print(x)"
      ],
      "metadata": {
        "colab": {
          "base_uri": "https://localhost:8080/"
        },
        "id": "8ipOYpa1RKpM",
        "outputId": "54ba200a-f6f1-4382-fffa-02d66424c496"
      },
      "execution_count": 25,
      "outputs": [
        {
          "output_type": "stream",
          "name": "stdout",
          "text": [
            "0\n",
            "1\n",
            "2\n",
            "3\n"
          ]
        }
      ]
    },
    {
      "cell_type": "code",
      "source": [
        "for x in range(10):\n",
        "  print(x)"
      ],
      "metadata": {
        "colab": {
          "base_uri": "https://localhost:8080/"
        },
        "id": "_kNiCCwvU53-",
        "outputId": "c9df2b59-3ebf-4878-8e71-987428085cbd"
      },
      "execution_count": 23,
      "outputs": [
        {
          "output_type": "stream",
          "name": "stdout",
          "text": [
            "0\n",
            "1\n",
            "2\n",
            "3\n",
            "4\n",
            "5\n",
            "6\n",
            "7\n",
            "8\n",
            "9\n"
          ]
        }
      ]
    },
    {
      "cell_type": "code",
      "source": [
        "x=3\n",
        "while x<7:\n",
        "  print(\"x=\",x)\n",
        "  x=x+1"
      ],
      "metadata": {
        "colab": {
          "base_uri": "https://localhost:8080/"
        },
        "id": "PXcRPQgHVJQr",
        "outputId": "bdba1cfe-7932-41b1-c134-9622c6ad3bf1"
      },
      "execution_count": 24,
      "outputs": [
        {
          "output_type": "stream",
          "name": "stdout",
          "text": [
            "x= 3\n",
            "x= 4\n",
            "x= 5\n",
            "x= 6\n"
          ]
        }
      ]
    },
    {
      "cell_type": "markdown",
      "source": [
        "###関数の定義、呼び出だし"
      ],
      "metadata": {
        "id": "mX2JfI08TJWy"
      }
    },
    {
      "cell_type": "code",
      "source": [
        "def hello():\n",
        "  print(\"こんにちは\")\n",
        "\n",
        "\n",
        "  #hello():インデントに注意\n",
        "hello()\n",
        "\n",
        "\n"
      ],
      "metadata": {
        "colab": {
          "base_uri": "https://localhost:8080/"
        },
        "id": "sEL3LrTnTI6-",
        "outputId": "5a030b7c-3891-4ac7-e9a6-9d0dc20b8b69"
      },
      "execution_count": 30,
      "outputs": [
        {
          "output_type": "stream",
          "name": "stdout",
          "text": [
            "こんにちは\n"
          ]
        }
      ]
    },
    {
      "cell_type": "code",
      "source": [
        "def add(x,y):\n",
        "  z=x+y\n",
        "  return z\n",
        "\n",
        "z=add(1,2)\n",
        "print(\"戻り値\",z)"
      ],
      "metadata": {
        "colab": {
          "base_uri": "https://localhost:8080/"
        },
        "id": "l6GN5LSUWOFF",
        "outputId": "1f6af83c-7247-483f-fd06-3a1da343b959"
      },
      "execution_count": 31,
      "outputs": [
        {
          "output_type": "stream",
          "name": "stdout",
          "text": [
            "戻り値 3\n"
          ]
        }
      ]
    },
    {
      "cell_type": "code",
      "source": [
        "def add_minus(x,y):\n",
        "  z=x+y\n",
        "  w=x-y\n",
        "  return z,w\n",
        "\n",
        "\n",
        "z,w=add_minus(5,1)\n",
        "print(\"戻り値 z=\",z ,\" w=\",w)"
      ],
      "metadata": {
        "colab": {
          "base_uri": "https://localhost:8080/"
        },
        "id": "2odFm2ukWTCc",
        "outputId": "098ed52d-0071-4884-d44d-08021e787bbc"
      },
      "execution_count": 32,
      "outputs": [
        {
          "output_type": "stream",
          "name": "stdout",
          "text": [
            "戻り値 z= 6  w= 4\n"
          ]
        }
      ]
    },
    {
      "cell_type": "markdown",
      "source": [
        "##実験1 単純パーセプトロン"
      ],
      "metadata": {
        "id": "2x8HTJyDaWwk"
      }
    },
    {
      "cell_type": "markdown",
      "source": [
        "###実験1-1"
      ],
      "metadata": {
        "id": "12IDAD9-bQ9t"
      }
    },
    {
      "cell_type": "markdown",
      "source": [
        " (x1,x2)=(2,4),(w1,w2)=(3,5),b=1のときの_y=x1*w1+x2*w2+bを計算"
      ],
      "metadata": {
        "id": "8UNOrSFBb_mh"
      }
    },
    {
      "cell_type": "code",
      "source": [
        "x1,x2=2,4\n",
        "w1,w2=3,5\n",
        "b=1\n",
        "\n",
        "_y=x1*w1+x2*w2+b\n",
        "\n",
        "print(_y)"
      ],
      "metadata": {
        "id": "bOnlxGQtbQjt"
      },
      "execution_count": null,
      "outputs": []
    },
    {
      "cell_type": "markdown",
      "source": [
        "###実験1-2"
      ],
      "metadata": {
        "id": "cysfGpWScTV4"
      }
    },
    {
      "cell_type": "markdown",
      "source": [
        "1-1で記述したプログラムを関数_two_input_weight()として作成"
      ],
      "metadata": {
        "id": "ZLDx5P5NcV1E"
      }
    },
    {
      "cell_type": "code",
      "source": [
        "def _two_input_weight(x1,x2,w1,w2,b):\n",
        "  _y=x1*w1+x2*w2+b\n",
        "  return _y"
      ],
      "metadata": {
        "id": "rBKVPmTHcm7V"
      },
      "execution_count": null,
      "outputs": []
    },
    {
      "cell_type": "markdown",
      "source": [
        "###実験1-3"
      ],
      "metadata": {
        "id": "_NADJNq6bVPc"
      }
    },
    {
      "cell_type": "markdown",
      "source": [
        "活性化関数の1つであるステップ関数_active_step()を作成"
      ],
      "metadata": {
        "id": "8XN0vHrLc8ez"
      }
    },
    {
      "cell_type": "code",
      "source": [
        "def _activate_step(_y):\n",
        "  if _y>=0:\n",
        "    y=1\n",
        "  else:\n",
        "    y=0\n",
        "  return y\n",
        "\n"
      ],
      "metadata": {
        "id": "UmSyo8N_adrD"
      },
      "execution_count": null,
      "outputs": []
    },
    {
      "cell_type": "markdown",
      "source": [
        "###実験1-4"
      ],
      "metadata": {
        "id": "FmOq6yQ7dIXD"
      }
    },
    {
      "cell_type": "markdown",
      "source": [
        "2入力、1出力の単純パーセプトロン関数two_input_perceptron()を作成"
      ],
      "metadata": {
        "id": "7NReJj1fdKgq"
      }
    },
    {
      "cell_type": "code",
      "source": [
        "def two_input_perceptron(x1,x2,w1,w2,b):\n",
        "   _two_input_weight()\n",
        "   _activate_step()\n",
        "\n",
        "   return y"
      ],
      "metadata": {
        "id": "j4YjKC50dHN4"
      },
      "execution_count": null,
      "outputs": []
    },
    {
      "cell_type": "markdown",
      "source": [
        "##実験2"
      ],
      "metadata": {
        "id": "t1q6_R8kdqY1"
      }
    },
    {
      "cell_type": "markdown",
      "source": [
        "###実験2-1"
      ],
      "metadata": {
        "id": "fqa0OnGrdtoL"
      }
    },
    {
      "cell_type": "markdown",
      "source": [
        "単純パーセプトロンの論理ゲートであるAND()関数を作成"
      ],
      "metadata": {
        "id": "7FOnuvXwdv0G"
      }
    },
    {
      "cell_type": "code",
      "source": [
        "#AND用の重み、バイアス設定\n",
        "w1,w2=[2,1]\n",
        "b=-3\n",
        "\n",
        "#AND用の重み付き和計算\n",
        "def _and_weight(x1,x2,w1,w2,b):\n",
        "  _y=x1*w1+x2*w2+b\n",
        "\n",
        "  return _y\n",
        "\n",
        "#AND用活性化関数\n",
        "def _and_activate(_y):\n",
        "  if _y>=0:\n",
        "    y=1\n",
        "  else:\n",
        "    y=0\n",
        "  return y\n",
        "\n",
        "#AND()関数\n",
        "def AND(x1,x2,w1,w2,b):\n",
        "  \n",
        "  _and_weight(x1,x2,w1,w2,b)\n",
        "  _and_activate(_y)\n",
        "\n",
        "  return y\n",
        "\n",
        "AND(0,0,w1,w2,b)\n",
        "print(\"x:0,y:0\",y)\n",
        "\n",
        "\n",
        "AND(0,1,w1,w2,b)\n",
        "print(\"x:0,y:1\",y)\n",
        "\n",
        "\n",
        "AND(1,0,w1,w2,b)\n",
        "print(\"x:1,y:0\",y)\n",
        "\n",
        "\n",
        "AND(1,1,w1,w2,b)\n",
        "print(\"x:1,y:1\",y)"
      ],
      "metadata": {
        "colab": {
          "base_uri": "https://localhost:8080/"
        },
        "id": "Tm_QULfsdvaq",
        "outputId": "5ab0e0da-ad66-4d15-9f19-bff25bf3056c"
      },
      "execution_count": 79,
      "outputs": [
        {
          "output_type": "stream",
          "name": "stdout",
          "text": [
            "x:0,y:0 [0, 1]\n",
            "x:0,y:1 [0, 1]\n",
            "x:1,y:0 [0, 1]\n",
            "x:1,y:1 [0, 1]\n"
          ]
        }
      ]
    },
    {
      "cell_type": "markdown",
      "source": [
        "###実験2-2 "
      ],
      "metadata": {
        "id": "pmp0LTE0iDTx"
      }
    },
    {
      "cell_type": "markdown",
      "source": [
        "AND()にならい、OR()関数を作成"
      ],
      "metadata": {
        "id": "dhFeFoQQiFBl"
      }
    },
    {
      "cell_type": "code",
      "source": [
        "#OR用の重み、バイアス設定\n",
        "w1=1\n",
        "w2=1\n",
        "b=1\n",
        "\n",
        "#OR用の重み付き和計算\n",
        "def _or_weight(x1,x2,w1,w2,b):\n",
        "  _y=(x1*w1)+(x2*w2)+b\n",
        "\n",
        "  return _y\n",
        "\n",
        "#OR用活性化関数\n",
        "def _or_activate(_y):\n",
        "  if _y>=0:\n",
        "    y=1\n",
        "  else:\n",
        "    y=0\n",
        "  return y\n",
        "\n",
        "#OR()関数\n",
        "def OR(x1,x2,w1,w2,b):\n",
        "  \n",
        "  _or_weight(x1,x2,w1,w2,b)\n",
        "  _or_activate(_y)\n",
        "\n",
        "  return y\n",
        "\n",
        "OR(0,0,w1,w2,b)\n",
        "print(\"x:0,y:0\",y)\n",
        "\n",
        "\n",
        "OR(0,1,w1,w2,b)\n",
        "print(\"x:0,y:1\",y)\n",
        "\n",
        "\n",
        "OR(1,0,w1,w2,b)\n",
        "print(\"x:1,y:0\",y)\n",
        "\n",
        "\n",
        "OR(1,1,w1,w2,b)\n",
        "print(\"x:1,y:1\",y)"
      ],
      "metadata": {
        "colab": {
          "base_uri": "https://localhost:8080/"
        },
        "id": "VFgph44KiQwy",
        "outputId": "b815fdc6-1000-4395-b788-56521b636fd1"
      },
      "execution_count": 67,
      "outputs": [
        {
          "output_type": "stream",
          "name": "stdout",
          "text": [
            "x:0,y:0 [0, 1]\n",
            "x:0,y:1 [0, 1]\n",
            "x:1,y:0 [0, 1]\n",
            "x:1,y:1 [0, 1]\n"
          ]
        }
      ]
    },
    {
      "cell_type": "markdown",
      "source": [
        "##実験3"
      ],
      "metadata": {
        "id": "ZPR6BzsGmM1U"
      }
    },
    {
      "cell_type": "markdown",
      "source": [
        "###実験3-1"
      ],
      "metadata": {
        "id": "iIl45TAGmPKp"
      }
    },
    {
      "cell_type": "markdown",
      "source": [
        "ANDゲートのパーセプトロンの差分を計算する関数get_weight_deltas()を作成"
      ],
      "metadata": {
        "id": "hJ_1CS8FmSBT"
      }
    },
    {
      "cell_type": "code",
      "source": [
        "def get_weight_deltas(x1,x2,w1,w2,b,t):\n",
        "  dw1=(y-t)*x1\n",
        "  dw2=(y-t)*x2\n",
        "  db=y-t\n",
        "\n",
        "  return dw1,dw2,db\n"
      ],
      "metadata": {
        "id": "-kAA1l6dmiuW"
      },
      "execution_count": null,
      "outputs": []
    },
    {
      "cell_type": "markdown",
      "source": [
        "###実験3-2"
      ],
      "metadata": {
        "id": "kNTfFW_VnOaw"
      }
    },
    {
      "cell_type": "markdown",
      "source": [
        "差分を更新する関数update_weightを作成"
      ],
      "metadata": {
        "id": "DncZj230nRy9"
      }
    },
    {
      "cell_type": "code",
      "source": [
        "def check_loss(dw1,dw2,db):\n",
        "  return (dw1==0)*(dw2==0)*(db==0)\n",
        "\n",
        "#差分の更新\n",
        "def update_weight(x1,x2,w1,w2,b,t):\n",
        "  dw1,dw2,db=get_weight_deltas(x1,x2,w1,w2,b,t)\n",
        "  print(\"dw1,dw2,db=\",dw1,dw2,db)\n",
        "  loss=check_loss(dw1,dw2,db)\n",
        "\n",
        "  w1=w1-dw1\n",
        "  w2=w2-dw2\n",
        "  b=b-db\n",
        "\n",
        "  print(\"w1,w2,b=\",w1,w2,b)\n",
        "  return w1,w2,b,loss"
      ],
      "metadata": {
        "id": "2QqMYhKonXv2"
      },
      "execution_count": null,
      "outputs": []
    },
    {
      "cell_type": "markdown",
      "source": [
        "###実験3-3"
      ],
      "metadata": {
        "id": "pfv_WlORot12"
      }
    },
    {
      "cell_type": "markdown",
      "source": [
        "以上を踏まえ、プログラムを作成する"
      ],
      "metadata": {
        "id": "U1QMNwS5ox3C"
      }
    },
    {
      "cell_type": "code",
      "source": [
        "#ANDゲートの入力値\n",
        "(x11,x12) = [0,0]\n",
        "(x21,x22) = [0,1]\n",
        "(x31,x32) = [1,0]\n",
        "(x41,x42) = [1,1]\n",
        "\n",
        "x_in=[[x11, x12], [x21, x22], [x31, x32], [x41, x42]]\n",
        "\n",
        "#ANDゲートの出力値\n",
        "t1=0\n",
        "t2=0\n",
        "t3=0\n",
        "t4=1\n",
        "\n",
        "t_in=[t1,t2,t3,t4]\n",
        "\n",
        "N=4\n",
        "epoch=7\n",
        "\n",
        "#重み初期値\n",
        "w1,w2=[0,0]\n",
        "b=0\n",
        "\n",
        "def get_weight_deltas(x1,x2,w1,w2,b,t):\n",
        "  dw1=(y-t)*x1\n",
        "  dw2=(y-t)*x2\n",
        "  db=y-t\n",
        "\n",
        "  return dw1,dw2,db\n",
        "\n",
        "def check_loss(dw1,dw2,db):\n",
        "  return (dw1==0)*(dw2==0)*(db==0)\n",
        "\n",
        "#差分の更新\n",
        "def update_weight(x1,x2,w1,w2,b,t):\n",
        "  dw1,dw2,db=get_weight_deltas(x1,x2,w1,w2,b,t)\n",
        "  print(\"dw1,dw2,db=\",dw1,dw2,db)\n",
        "  loss=check_loss(dw1,dw2,db)\n",
        "\n",
        "  w1=w1-dw1\n",
        "  w2=w2-dw2\n",
        "  b=b-db\n",
        "\n",
        "  print(\"w1,w2,b=\",w1,w2,b)\n",
        "\n",
        "\n",
        "for j in range(epoch):\n",
        "  classified=True\n",
        "  for i in range(N):\n",
        "    print(\"----------------------\")\n",
        "\n",
        "    x1,x2=x_in[i]\n",
        "    t=t_in[i]\n",
        "    print(\"x1,x2,t=\",x1,x2,t)\n",
        "\n",
        "    update_weight(x1,x2,w1,w2,b,t)\n",
        "\n",
        "    classified*=loss\n",
        "\n",
        "  print(\"----------------------\")\n",
        "  print(\"Condition=\",classified)\n",
        "\n",
        "  if classified:\n",
        "    print(\"----------------------\")\n",
        "    print(\"Found.\")\n",
        "    print(\"w1=\",w1,\" w2=\",w2,\" b=\",b)\n",
        "    break"
      ],
      "metadata": {
        "colab": {
          "base_uri": "https://localhost:8080/",
          "height": 433
        },
        "id": "viOK_AuTo2UY",
        "outputId": "c76003b5-76f1-4f3f-9e90-74334a51315d"
      },
      "execution_count": 88,
      "outputs": [
        {
          "output_type": "stream",
          "name": "stdout",
          "text": [
            "----------------------\n",
            "x1,x2,t= 0 0 0\n"
          ]
        },
        {
          "output_type": "error",
          "ename": "TypeError",
          "evalue": "ignored",
          "traceback": [
            "\u001b[0;31m---------------------------------------------------------------------------\u001b[0m",
            "\u001b[0;31mTypeError\u001b[0m                                 Traceback (most recent call last)",
            "\u001b[0;32m<ipython-input-88-a0a6cedf779e>\u001b[0m in \u001b[0;36m<module>\u001b[0;34m\u001b[0m\n\u001b[1;32m     54\u001b[0m     \u001b[0mprint\u001b[0m\u001b[0;34m(\u001b[0m\u001b[0;34m\"x1,x2,t=\"\u001b[0m\u001b[0;34m,\u001b[0m\u001b[0mx1\u001b[0m\u001b[0;34m,\u001b[0m\u001b[0mx2\u001b[0m\u001b[0;34m,\u001b[0m\u001b[0mt\u001b[0m\u001b[0;34m)\u001b[0m\u001b[0;34m\u001b[0m\u001b[0;34m\u001b[0m\u001b[0m\n\u001b[1;32m     55\u001b[0m \u001b[0;34m\u001b[0m\u001b[0m\n\u001b[0;32m---> 56\u001b[0;31m     \u001b[0mupdate_weight\u001b[0m\u001b[0;34m(\u001b[0m\u001b[0mx1\u001b[0m\u001b[0;34m,\u001b[0m\u001b[0mx2\u001b[0m\u001b[0;34m,\u001b[0m\u001b[0mw1\u001b[0m\u001b[0;34m,\u001b[0m\u001b[0mw2\u001b[0m\u001b[0;34m,\u001b[0m\u001b[0mb\u001b[0m\u001b[0;34m,\u001b[0m\u001b[0mt\u001b[0m\u001b[0;34m)\u001b[0m\u001b[0;34m\u001b[0m\u001b[0;34m\u001b[0m\u001b[0m\n\u001b[0m\u001b[1;32m     57\u001b[0m \u001b[0;34m\u001b[0m\u001b[0m\n\u001b[1;32m     58\u001b[0m     \u001b[0mclassified\u001b[0m\u001b[0;34m*=\u001b[0m\u001b[0mloss\u001b[0m\u001b[0;34m\u001b[0m\u001b[0;34m\u001b[0m\u001b[0m\n",
            "\u001b[0;32m<ipython-input-88-a0a6cedf779e>\u001b[0m in \u001b[0;36mupdate_weight\u001b[0;34m(x1, x2, w1, w2, b, t)\u001b[0m\n\u001b[1;32m     34\u001b[0m \u001b[0;31m#差分の更新\u001b[0m\u001b[0;34m\u001b[0m\u001b[0;34m\u001b[0m\u001b[0;34m\u001b[0m\u001b[0m\n\u001b[1;32m     35\u001b[0m \u001b[0;32mdef\u001b[0m \u001b[0mupdate_weight\u001b[0m\u001b[0;34m(\u001b[0m\u001b[0mx1\u001b[0m\u001b[0;34m,\u001b[0m\u001b[0mx2\u001b[0m\u001b[0;34m,\u001b[0m\u001b[0mw1\u001b[0m\u001b[0;34m,\u001b[0m\u001b[0mw2\u001b[0m\u001b[0;34m,\u001b[0m\u001b[0mb\u001b[0m\u001b[0;34m,\u001b[0m\u001b[0mt\u001b[0m\u001b[0;34m)\u001b[0m\u001b[0;34m:\u001b[0m\u001b[0;34m\u001b[0m\u001b[0;34m\u001b[0m\u001b[0m\n\u001b[0;32m---> 36\u001b[0;31m   \u001b[0mdw1\u001b[0m\u001b[0;34m,\u001b[0m\u001b[0mdw2\u001b[0m\u001b[0;34m,\u001b[0m\u001b[0mdb\u001b[0m\u001b[0;34m=\u001b[0m\u001b[0mget_weight_deltas\u001b[0m\u001b[0;34m(\u001b[0m\u001b[0mx1\u001b[0m\u001b[0;34m,\u001b[0m\u001b[0mx2\u001b[0m\u001b[0;34m,\u001b[0m\u001b[0mw1\u001b[0m\u001b[0;34m,\u001b[0m\u001b[0mw2\u001b[0m\u001b[0;34m,\u001b[0m\u001b[0mb\u001b[0m\u001b[0;34m,\u001b[0m\u001b[0mt\u001b[0m\u001b[0;34m)\u001b[0m\u001b[0;34m\u001b[0m\u001b[0;34m\u001b[0m\u001b[0m\n\u001b[0m\u001b[1;32m     37\u001b[0m   \u001b[0mprint\u001b[0m\u001b[0;34m(\u001b[0m\u001b[0;34m\"dw1,dw2,db=\"\u001b[0m\u001b[0;34m,\u001b[0m\u001b[0mdw1\u001b[0m\u001b[0;34m,\u001b[0m\u001b[0mdw2\u001b[0m\u001b[0;34m,\u001b[0m\u001b[0mdb\u001b[0m\u001b[0;34m)\u001b[0m\u001b[0;34m\u001b[0m\u001b[0;34m\u001b[0m\u001b[0m\n\u001b[1;32m     38\u001b[0m   \u001b[0mloss\u001b[0m\u001b[0;34m=\u001b[0m\u001b[0mcheck_loss\u001b[0m\u001b[0;34m(\u001b[0m\u001b[0mdw1\u001b[0m\u001b[0;34m,\u001b[0m\u001b[0mdw2\u001b[0m\u001b[0;34m,\u001b[0m\u001b[0mdb\u001b[0m\u001b[0;34m)\u001b[0m\u001b[0;34m\u001b[0m\u001b[0;34m\u001b[0m\u001b[0m\n",
            "\u001b[0;32m<ipython-input-88-a0a6cedf779e>\u001b[0m in \u001b[0;36mget_weight_deltas\u001b[0;34m(x1, x2, w1, w2, b, t)\u001b[0m\n\u001b[1;32m     23\u001b[0m \u001b[0;34m\u001b[0m\u001b[0m\n\u001b[1;32m     24\u001b[0m \u001b[0;32mdef\u001b[0m \u001b[0mget_weight_deltas\u001b[0m\u001b[0;34m(\u001b[0m\u001b[0mx1\u001b[0m\u001b[0;34m,\u001b[0m\u001b[0mx2\u001b[0m\u001b[0;34m,\u001b[0m\u001b[0mw1\u001b[0m\u001b[0;34m,\u001b[0m\u001b[0mw2\u001b[0m\u001b[0;34m,\u001b[0m\u001b[0mb\u001b[0m\u001b[0;34m,\u001b[0m\u001b[0mt\u001b[0m\u001b[0;34m)\u001b[0m\u001b[0;34m:\u001b[0m\u001b[0;34m\u001b[0m\u001b[0;34m\u001b[0m\u001b[0m\n\u001b[0;32m---> 25\u001b[0;31m   \u001b[0mdw1\u001b[0m\u001b[0;34m=\u001b[0m\u001b[0;34m(\u001b[0m\u001b[0my\u001b[0m\u001b[0;34m-\u001b[0m\u001b[0mt\u001b[0m\u001b[0;34m)\u001b[0m\u001b[0;34m*\u001b[0m\u001b[0mx1\u001b[0m\u001b[0;34m\u001b[0m\u001b[0;34m\u001b[0m\u001b[0m\n\u001b[0m\u001b[1;32m     26\u001b[0m   \u001b[0mdw2\u001b[0m\u001b[0;34m=\u001b[0m\u001b[0;34m(\u001b[0m\u001b[0my\u001b[0m\u001b[0;34m-\u001b[0m\u001b[0mt\u001b[0m\u001b[0;34m)\u001b[0m\u001b[0;34m*\u001b[0m\u001b[0mx2\u001b[0m\u001b[0;34m\u001b[0m\u001b[0;34m\u001b[0m\u001b[0m\n\u001b[1;32m     27\u001b[0m   \u001b[0mdb\u001b[0m\u001b[0;34m=\u001b[0m\u001b[0my\u001b[0m\u001b[0;34m-\u001b[0m\u001b[0mt\u001b[0m\u001b[0;34m\u001b[0m\u001b[0;34m\u001b[0m\u001b[0m\n",
            "\u001b[0;31mTypeError\u001b[0m: unsupported operand type(s) for -: 'list' and 'int'"
          ]
        }
      ]
    }
  ]
}