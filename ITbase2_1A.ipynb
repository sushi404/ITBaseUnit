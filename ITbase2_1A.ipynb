{
  "nbformat": 4,
  "nbformat_minor": 0,
  "metadata": {
    "colab": {
      "provenance": [],
      "collapsed_sections": [
        "8LTiG6M0OZbr",
        "alkhGFQMVdjA",
        "GHRjqQxKVgtq",
        "2hB30xAQVkYU",
        "O09BO25yOjXU",
        "ql8OhuSZS2TM",
        "UcMMXICDS-N4",
        "mX2JfI08TJWy"
      ],
      "authorship_tag": "ABX9TyOMnD+tGPBfgJVCmrxbj1SZ",
      "include_colab_link": true
    },
    "kernelspec": {
      "name": "python3",
      "display_name": "Python 3"
    },
    "language_info": {
      "name": "python"
    }
  },
  "cells": [
    {
      "cell_type": "markdown",
      "metadata": {
        "id": "view-in-github",
        "colab_type": "text"
      },
      "source": [
        "<a href=\"https://colab.research.google.com/github/sushi404/ITBaseUnit/blob/main/ITbase2_1A.ipynb\" target=\"_parent\"><img src=\"https://colab.research.google.com/assets/colab-badge.svg\" alt=\"Open In Colab\"/></a>"
      ]
    },
    {
      "cell_type": "markdown",
      "source": [
        "#基礎ユニット2 項目1 ニューラルネットワークと画像認識"
      ],
      "metadata": {
        "id": "fsG28iNGONSd"
      }
    },
    {
      "cell_type": "markdown",
      "source": [
        "##Python練習1"
      ],
      "metadata": {
        "id": "8LTiG6M0OZbr"
      }
    },
    {
      "cell_type": "markdown",
      "source": [
        "###出力"
      ],
      "metadata": {
        "id": "alkhGFQMVdjA"
      }
    },
    {
      "cell_type": "code",
      "execution_count": 6,
      "metadata": {
        "colab": {
          "base_uri": "https://localhost:8080/"
        },
        "id": "znWQmDbDM7vk",
        "outputId": "fa081bc6-e22e-4370-d929-0c70a95d0450"
      },
      "outputs": [
        {
          "output_type": "stream",
          "name": "stdout",
          "text": [
            "pythonの練習\n"
          ]
        }
      ],
      "source": [
        "\n",
        "print(\"pythonの練習\")"
      ]
    },
    {
      "cell_type": "markdown",
      "source": [
        "###変数"
      ],
      "metadata": {
        "id": "GHRjqQxKVgtq"
      }
    },
    {
      "cell_type": "code",
      "source": [
        "#変数\n",
        "a=1\n",
        "print(a)"
      ],
      "metadata": {
        "colab": {
          "base_uri": "https://localhost:8080/"
        },
        "id": "vtXaCrW1P3lY",
        "outputId": "dbaa6882-961a-41de-9dcb-1ea2ebe99e04"
      },
      "execution_count": 7,
      "outputs": [
        {
          "output_type": "stream",
          "name": "stdout",
          "text": [
            "1\n"
          ]
        }
      ]
    },
    {
      "cell_type": "markdown",
      "source": [
        "###計算"
      ],
      "metadata": {
        "id": "2hB30xAQVkYU"
      }
    },
    {
      "cell_type": "code",
      "source": [
        "#計算\n",
        "\n",
        "a=1+2\n",
        "b=4-1+2\n",
        "c=(4+5)*4\n",
        "d=5/(1+2+3)\n",
        "print(\"a=\",a ,\"b=\",b , \"c=\",c , \"d=\",d)"
      ],
      "metadata": {
        "colab": {
          "base_uri": "https://localhost:8080/"
        },
        "id": "HlhwZZSnP7Ft",
        "outputId": "aa78f296-ce3e-4896-ad66-f96986ba39b1"
      },
      "execution_count": 9,
      "outputs": [
        {
          "output_type": "stream",
          "name": "stdout",
          "text": [
            "a= 3 b= 5 c= 36 d= 0.8333333333333334\n"
          ]
        }
      ]
    },
    {
      "cell_type": "markdown",
      "source": [
        "##Python練習2"
      ],
      "metadata": {
        "id": "O09BO25yOjXU"
      }
    },
    {
      "cell_type": "markdown",
      "source": [
        "###配列(リスト)"
      ],
      "metadata": {
        "id": "Z3ft11-LSxJi"
      }
    },
    {
      "cell_type": "code",
      "source": [
        "#配列の計算\n",
        "x=[0,0]\n",
        "y=[0,1]\n",
        "\n",
        "print(x)\n",
        "print(y)\n"
      ],
      "metadata": {
        "colab": {
          "base_uri": "https://localhost:8080/"
        },
        "id": "qSIMh4eUOMI5",
        "outputId": "f12a5fe4-82c6-474d-dc40-b2b866923e28"
      },
      "execution_count": 34,
      "outputs": [
        {
          "output_type": "stream",
          "name": "stdout",
          "text": [
            "[0, 0]\n",
            "[0, 1]\n"
          ]
        }
      ]
    },
    {
      "cell_type": "code",
      "source": [
        "#多次元配列の生成、参照\n",
        "x=[0,0]\n",
        "y=[0,1]\n",
        "z=[1,1]\n",
        "w=[x,y,z]\n",
        "\n",
        "print(\"x[0] =\", x[0], \" y[1] =\",y[1], \" w[0] =\", w[0], \" w[1][1] =\", w[1][1])"
      ],
      "metadata": {
        "colab": {
          "base_uri": "https://localhost:8080/"
        },
        "id": "3dx2xwK5QQ1I",
        "outputId": "e5deb984-acab-4a5b-8a35-978925e3ad44"
      },
      "execution_count": 35,
      "outputs": [
        {
          "output_type": "stream",
          "name": "stdout",
          "text": [
            "x[0] = 0  y[1] = 1  w[0] = [0, 0]  w[1][1] = 1\n"
          ]
        }
      ]
    },
    {
      "cell_type": "code",
      "source": [
        "#連番配列\n",
        "r=range(10)\n",
        "a=list(r)\n",
        "\n",
        "print(a)"
      ],
      "metadata": {
        "colab": {
          "base_uri": "https://localhost:8080/"
        },
        "id": "DgNSiHnuQgoR",
        "outputId": "3aa74104-e08b-4369-f5bc-dced416f05cf"
      },
      "execution_count": 36,
      "outputs": [
        {
          "output_type": "stream",
          "name": "stdout",
          "text": [
            "[0, 1, 2, 3, 4, 5, 6, 7, 8, 9]\n"
          ]
        }
      ]
    },
    {
      "cell_type": "markdown",
      "source": [
        "###条件分岐"
      ],
      "metadata": {
        "id": "ql8OhuSZS2TM"
      }
    },
    {
      "cell_type": "code",
      "source": [
        "#a=4\n",
        "#a=-1\n",
        "a=-3\n",
        "\n",
        "if a>=0:\n",
        "    print(\"aは0以上\")\n",
        "elif a<0 and a>=-1:\n",
        "  print(\"aは-1以上,0未満\")\n",
        "else:\n",
        "  print(\"aは-1未満\")"
      ],
      "metadata": {
        "colab": {
          "base_uri": "https://localhost:8080/"
        },
        "id": "wGGvl2YzQs6B",
        "outputId": "081dea82-b3cd-4090-91e3-99b0e8deda1a"
      },
      "execution_count": 21,
      "outputs": [
        {
          "output_type": "stream",
          "name": "stdout",
          "text": [
            "aは-1未満\n"
          ]
        }
      ]
    },
    {
      "cell_type": "markdown",
      "source": [
        "###繰り返し処理"
      ],
      "metadata": {
        "id": "UcMMXICDS-N4"
      }
    },
    {
      "cell_type": "code",
      "source": [
        "input=[0,1,2,3]\n",
        "for x in input:\n",
        "  print(x)"
      ],
      "metadata": {
        "colab": {
          "base_uri": "https://localhost:8080/"
        },
        "id": "8ipOYpa1RKpM",
        "outputId": "54ba200a-f6f1-4382-fffa-02d66424c496"
      },
      "execution_count": 25,
      "outputs": [
        {
          "output_type": "stream",
          "name": "stdout",
          "text": [
            "0\n",
            "1\n",
            "2\n",
            "3\n"
          ]
        }
      ]
    },
    {
      "cell_type": "code",
      "source": [
        "for x in range(10):\n",
        "  print(x)"
      ],
      "metadata": {
        "colab": {
          "base_uri": "https://localhost:8080/"
        },
        "id": "_kNiCCwvU53-",
        "outputId": "c9df2b59-3ebf-4878-8e71-987428085cbd"
      },
      "execution_count": 23,
      "outputs": [
        {
          "output_type": "stream",
          "name": "stdout",
          "text": [
            "0\n",
            "1\n",
            "2\n",
            "3\n",
            "4\n",
            "5\n",
            "6\n",
            "7\n",
            "8\n",
            "9\n"
          ]
        }
      ]
    },
    {
      "cell_type": "code",
      "source": [
        "x=3\n",
        "while x<7:\n",
        "  print(\"x=\",x)\n",
        "  x=x+1"
      ],
      "metadata": {
        "colab": {
          "base_uri": "https://localhost:8080/"
        },
        "id": "PXcRPQgHVJQr",
        "outputId": "bdba1cfe-7932-41b1-c134-9622c6ad3bf1"
      },
      "execution_count": 24,
      "outputs": [
        {
          "output_type": "stream",
          "name": "stdout",
          "text": [
            "x= 3\n",
            "x= 4\n",
            "x= 5\n",
            "x= 6\n"
          ]
        }
      ]
    },
    {
      "cell_type": "markdown",
      "source": [
        "###関数の定義、呼び出だし"
      ],
      "metadata": {
        "id": "mX2JfI08TJWy"
      }
    },
    {
      "cell_type": "code",
      "source": [
        "def hello():\n",
        "  print(\"こんにちは\")\n",
        "\n",
        "\n",
        "  #hello():インデントに注意\n",
        "hello()\n",
        "\n",
        "\n"
      ],
      "metadata": {
        "colab": {
          "base_uri": "https://localhost:8080/"
        },
        "id": "sEL3LrTnTI6-",
        "outputId": "5a030b7c-3891-4ac7-e9a6-9d0dc20b8b69"
      },
      "execution_count": 30,
      "outputs": [
        {
          "output_type": "stream",
          "name": "stdout",
          "text": [
            "こんにちは\n"
          ]
        }
      ]
    },
    {
      "cell_type": "code",
      "source": [
        "def add(x,y):\n",
        "  z=x+y\n",
        "  return z\n",
        "\n",
        "z=add(1,2)\n",
        "print(\"戻り値\",z)"
      ],
      "metadata": {
        "colab": {
          "base_uri": "https://localhost:8080/"
        },
        "id": "l6GN5LSUWOFF",
        "outputId": "1f6af83c-7247-483f-fd06-3a1da343b959"
      },
      "execution_count": 31,
      "outputs": [
        {
          "output_type": "stream",
          "name": "stdout",
          "text": [
            "戻り値 3\n"
          ]
        }
      ]
    },
    {
      "cell_type": "code",
      "source": [
        "def add_minus(x,y):\n",
        "  z=x+y\n",
        "  w=x-y\n",
        "  return z,w\n",
        "\n",
        "\n",
        "z,w=add_minus(5,1)\n",
        "print(\"戻り値 z=\",z ,\" w=\",w)"
      ],
      "metadata": {
        "colab": {
          "base_uri": "https://localhost:8080/"
        },
        "id": "2odFm2ukWTCc",
        "outputId": "098ed52d-0071-4884-d44d-08021e787bbc"
      },
      "execution_count": 32,
      "outputs": [
        {
          "output_type": "stream",
          "name": "stdout",
          "text": [
            "戻り値 z= 6  w= 4\n"
          ]
        }
      ]
    }
  ]
}